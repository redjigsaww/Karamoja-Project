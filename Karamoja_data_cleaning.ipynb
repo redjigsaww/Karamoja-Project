{
  "nbformat": 4,
  "nbformat_minor": 0,
  "metadata": {
    "colab": {
      "provenance": []
    },
    "kernelspec": {
      "name": "python3",
      "display_name": "Python 3"
    },
    "language_info": {
      "name": "python"
    }
  },
  "cells": [
    {
      "cell_type": "markdown",
      "source": [
        "# Karamoja Project Overview\n",
        "\n",
        "Food insecurity is a major problem affecting most countries in Africa.There is no difference in Karamoja, a sub-region in Uganda.Factors leading to this is due to intense droughts, pests and diseases. This causes a decrease in the productivity of crops"
      ],
      "metadata": {
        "id": "84p8OtRe9_Q8"
      }
    },
    {
      "cell_type": "markdown",
      "source": [
        "## Problem Statement\n",
        "\n",
        "NGOs providing technical support and farm inputs to farmers experiencing low crop yield, lack visibility into the overall state of the region.\n",
        "\n",
        "\n",
        "\n",
        "Two main staple crops of the region(sorghum and maize) were used by Dalberg Data Insights to measure the yield in the area."
      ],
      "metadata": {
        "id": "5TOIlRk9Dggr"
      }
    },
    {
      "cell_type": "markdown",
      "source": [
        "## Objectives\n",
        "-To understand the ratio between the crop area to both sorghum and crop yield.\n",
        "\n",
        "\n",
        "-To understand the relationship between total crop yield and population of each subcounty.\n",
        "\n",
        "-To gain a visibility on the overall state of the region.\n",
        "\n"
      ],
      "metadata": {
        "id": "93REFpKzFhyj"
      }
    },
    {
      "cell_type": "code",
      "execution_count": 18,
      "metadata": {
        "colab": {
          "base_uri": "https://localhost:8080/"
        },
        "id": "kGi-oFVWQ-2l",
        "outputId": "7cdf9964-029f-4eaf-9147-7a6339344aca"
      },
      "outputs": [
        {
          "output_type": "stream",
          "name": "stdout",
          "text": [
            "DATA/\n",
            "DATA/TABLES/\n",
            "DATA/TABLES/Uganda_Karamoja_Subcounty_Crop_Yield_Population.csv\n",
            "__MACOSX/\n",
            "__MACOSX/DATA/\n",
            "__MACOSX/DATA/TABLES/\n",
            "__MACOSX/DATA/TABLES/._Uganda_Karamoja_Subcounty_Crop_Yield_Population.csv\n",
            "DATA/TABLES/Uganda_Karamoja_District_Crop_Yield_Population.csv\n",
            "__MACOSX/DATA/TABLES/._Uganda_Karamoja_District_Crop_Yield_Population.csv\n",
            "__MACOSX/DATA/._TABLES\n",
            "DATA/.DS_Store\n",
            "__MACOSX/DATA/._.DS_Store\n",
            "DATA/SHAPEFILES/\n",
            "DATA/SHAPEFILES/Crop_Type_Map_Sorghum.prj\n",
            "__MACOSX/DATA/SHAPEFILES/\n",
            "__MACOSX/DATA/SHAPEFILES/._Crop_Type_Map_Sorghum.prj\n",
            "DATA/SHAPEFILES/Crop_Type_Map_Maize.prj\n",
            "__MACOSX/DATA/SHAPEFILES/._Crop_Type_Map_Maize.prj\n",
            "DATA/SHAPEFILES/Uganda_Districts.dbf\n",
            "__MACOSX/DATA/SHAPEFILES/._Uganda_Districts.dbf\n",
            "DATA/SHAPEFILES/Uganda_Subcounties.dbf\n",
            "__MACOSX/DATA/SHAPEFILES/._Uganda_Subcounties.dbf\n",
            "DATA/SHAPEFILES/Crop_Type_Map_Sorghum.qpj\n",
            "__MACOSX/DATA/SHAPEFILES/._Crop_Type_Map_Sorghum.qpj\n",
            "DATA/SHAPEFILES/Crop_Type_Map_Maize.qpj\n",
            "__MACOSX/DATA/SHAPEFILES/._Crop_Type_Map_Maize.qpj\n",
            "DATA/SHAPEFILES/Uganda_Districts.shp\n",
            "__MACOSX/DATA/SHAPEFILES/._Uganda_Districts.shp\n",
            "DATA/SHAPEFILES/Uganda_Subcounties.shp\n",
            "__MACOSX/DATA/SHAPEFILES/._Uganda_Subcounties.shp\n",
            "DATA/SHAPEFILES/Uganda_Subcounties.cpg\n",
            "__MACOSX/DATA/SHAPEFILES/._Uganda_Subcounties.cpg\n",
            "DATA/SHAPEFILES/Uganda_Districts.shx\n",
            "__MACOSX/DATA/SHAPEFILES/._Uganda_Districts.shx\n",
            "DATA/SHAPEFILES/Uganda_Subcounties.shx\n",
            "__MACOSX/DATA/SHAPEFILES/._Uganda_Subcounties.shx\n",
            "DATA/SHAPEFILES/Crop_Type_Map_Sorghum.shp\n",
            "__MACOSX/DATA/SHAPEFILES/._Crop_Type_Map_Sorghum.shp\n",
            "DATA/SHAPEFILES/Crop_Type_Map_Maize.shp\n",
            "__MACOSX/DATA/SHAPEFILES/._Crop_Type_Map_Maize.shp\n",
            "DATA/SHAPEFILES/Crop_Type_Map_Sorghum.shx\n",
            "__MACOSX/DATA/SHAPEFILES/._Crop_Type_Map_Sorghum.shx\n",
            "DATA/SHAPEFILES/Crop_Type_Map_Maize.shx\n",
            "__MACOSX/DATA/SHAPEFILES/._Crop_Type_Map_Maize.shx\n",
            "DATA/SHAPEFILES/Uganda_Districts (1).cpg\n",
            "__MACOSX/DATA/SHAPEFILES/._Uganda_Districts (1).cpg\n",
            "DATA/SHAPEFILES/Uganda_Subcounties.qpj\n",
            "__MACOSX/DATA/SHAPEFILES/._Uganda_Subcounties.qpj\n",
            "DATA/SHAPEFILES/Uganda_Districts.qpj\n",
            "__MACOSX/DATA/SHAPEFILES/._Uganda_Districts.qpj\n",
            "DATA/SHAPEFILES/Uganda_Districts.prj\n",
            "__MACOSX/DATA/SHAPEFILES/._Uganda_Districts.prj\n",
            "DATA/SHAPEFILES/Uganda_Subcounties.prj\n",
            "__MACOSX/DATA/SHAPEFILES/._Uganda_Subcounties.prj\n",
            "DATA/SHAPEFILES/Crop_Type_Map_Maize.dbf\n",
            "__MACOSX/DATA/SHAPEFILES/._Crop_Type_Map_Maize.dbf\n",
            "DATA/SHAPEFILES/Crop_Type_Map_Sorghum.dbf\n",
            "__MACOSX/DATA/SHAPEFILES/._Crop_Type_Map_Sorghum.dbf\n",
            "__MACOSX/DATA/._SHAPEFILES\n",
            "__MACOSX/._DATA\n",
            "content of __MACOSX/DATA/TABLES/._Uganda_Karamoja_District_Crop_Yield_Population.csv\n",
            "Empty DataFrame\n",
            "Columns: [Unnamed: 0]\n",
            "Index: []\n",
            "<bound method NDFrame.tail of Empty DataFrame\n",
            "Columns: [Unnamed: 0]\n",
            "Index: []>\n",
            "       Unnamed: 0\n",
            "count           0\n",
            "unique          0\n",
            "top           NaN\n",
            "freq          NaN\n",
            "<class 'pandas.core.frame.DataFrame'>\n",
            "RangeIndex: 0 entries\n",
            "Data columns (total 1 columns):\n",
            " #   Column      Non-Null Count  Dtype \n",
            "---  ------      --------------  ----- \n",
            " 0   Unnamed: 0  0 non-null      object\n",
            "dtypes: object(1)\n",
            "memory usage: 124.0+ bytes\n",
            "None\n"
          ]
        }
      ],
      "source": [
        "# Loading the zipped data and needed pandas library\n",
        "import zipfile\n",
        "import pandas as pd\n",
        "\n",
        "\n",
        "#Unzipping the data\n",
        "with zipfile.ZipFile('DATA.zip', 'r')as zip_ref:\n",
        "     for file_info in zip_ref.infolist():\n",
        "      filename= file_info.filename\n",
        "      print(filename)\n",
        "\n",
        "with zipfile.ZipFile('DATA.zip', 'r')as zip_ref:\n",
        "  csv_files = [f for f in zip_ref.namelist() if f.endswith('.csv')]\n",
        "\n",
        "\n",
        "\n",
        "#Processing each csv\n",
        "\n",
        "with zipfile.ZipFile('DATA.zip', 'r')as zip_ref:\n",
        "     for f in csv_files:\n",
        "      with zip_ref.open(f) as file:\n",
        "       df=pd.read_csv(file, encoding='latin-1')\n",
        "#Getting to understand more of each csv file\n",
        "print(f\"content of {f}\")\n",
        "print(df.head())\n",
        "print(df.tail)\n",
        "print(df.describe())\n",
        "print(df.info())"
      ]
    },
    {
      "cell_type": "code",
      "source": [
        "#Checking for missing values\n",
        "with zipfile.ZipFile('DATA.zip', 'r')as zip_ref:\n",
        "     for f in csv_files:\n",
        "          with zip_ref.open(f)as file:\n",
        "            df=pd.read_csv(file, encoding='latin-1')\n",
        "            print(df.isnull().sum()) #sum of all nan values\n",
        "            print(df.isnull().sum(axis=0))# sum of all nan values by column\n",
        "\n"
      ],
      "metadata": {
        "colab": {
          "base_uri": "https://localhost:8080/"
        },
        "id": "-Jo8iBSLof6e",
        "outputId": "cc417555-3f3b-4f84-f800-b810bdc360c6"
      },
      "execution_count": 19,
      "outputs": [
        {
          "output_type": "stream",
          "name": "stdout",
          "text": [
            "OBJECTID          0\n",
            "SUBCOUNTY_NAME    0\n",
            "DISTRICT_NAME     0\n",
            "POP               0\n",
            "Area              0\n",
            "Karamoja          0\n",
            "S_Yield_Ha        0\n",
            "M_Yield_Ha        0\n",
            "Crop_Area_Ha      0\n",
            "S_Area_Ha         0\n",
            "M_Area_Ha         0\n",
            "S_Prod_Tot        0\n",
            "M_Prod_Tot        0\n",
            "dtype: int64\n",
            "OBJECTID          0\n",
            "SUBCOUNTY_NAME    0\n",
            "DISTRICT_NAME     0\n",
            "POP               0\n",
            "Area              0\n",
            "Karamoja          0\n",
            "S_Yield_Ha        0\n",
            "M_Yield_Ha        0\n",
            "Crop_Area_Ha      0\n",
            "S_Area_Ha         0\n",
            "M_Area_Ha         0\n",
            "S_Prod_Tot        0\n",
            "M_Prod_Tot        0\n",
            "dtype: int64\n",
            "Unnamed: 0    0\n",
            "dtype: int64\n",
            "Unnamed: 0    0\n",
            "dtype: int64\n",
            "OBJECTID        0\n",
            "NAME            0\n",
            "POP             0\n",
            "Area            0\n",
            "S_Yield_Ha      0\n",
            "M_Yield_Ha      0\n",
            "Crop_Area_Ha    0\n",
            "S_Area_Ha       0\n",
            "M_Area_Ha       0\n",
            "S_Prod_Tot      0\n",
            "M_Prod_Tot      0\n",
            "dtype: int64\n",
            "OBJECTID        0\n",
            "NAME            0\n",
            "POP             0\n",
            "Area            0\n",
            "S_Yield_Ha      0\n",
            "M_Yield_Ha      0\n",
            "Crop_Area_Ha    0\n",
            "S_Area_Ha       0\n",
            "M_Area_Ha       0\n",
            "S_Prod_Tot      0\n",
            "M_Prod_Tot      0\n",
            "dtype: int64\n",
            "Unnamed: 0    0\n",
            "dtype: int64\n",
            "Unnamed: 0    0\n",
            "dtype: int64\n"
          ]
        }
      ]
    },
    {
      "cell_type": "markdown",
      "source": [
        "There are no Nan or missing values.Hence, the data that end with .csv is ready for analysis"
      ],
      "metadata": {
        "id": "zjIkICHZ3PAQ"
      }
    },
    {
      "cell_type": "code",
      "source": [
        "#Accesing other file types\n",
        "with zipfile.ZipFile('DATA.zip', 'r')as zip_ref:\n",
        "  FilePath= 'DATA/SHAPEFILES/Crop_Type_Map_Sorghum.prj'\n",
        "  with zip_ref.open(FilePath, 'r') as Sorghum:\n",
        "   print(Sorghum.read())"
      ],
      "metadata": {
        "colab": {
          "base_uri": "https://localhost:8080/"
        },
        "id": "gFy88VHM3_K_",
        "outputId": "c187cadc-d043-4d1a-957a-3d96fb32f00d"
      },
      "execution_count": 23,
      "outputs": [
        {
          "output_type": "stream",
          "name": "stdout",
          "text": [
            "b'PROJCS[\"WGS_1984_UTM_Zone_36N\",GEOGCS[\"GCS_WGS_1984\",DATUM[\"D_WGS_1984\",SPHEROID[\"WGS_1984\",6378137,298.257223563]],PRIMEM[\"Greenwich\",0],UNIT[\"Degree\",0.017453292519943295]],PROJECTION[\"Transverse_Mercator\"],PARAMETER[\"latitude_of_origin\",0],PARAMETER[\"central_meridian\",33],PARAMETER[\"scale_factor\",0.9996],PARAMETER[\"false_easting\",500000],PARAMETER[\"false_northing\",0],UNIT[\"Meter\",1]]'\n"
          ]
        }
      ]
    },
    {
      "cell_type": "markdown",
      "source": [
        "The csv files are then extracted manually from the zipped file for further analysis of the data at hand."
      ],
      "metadata": {
        "id": "4_EDbKsfH7lM"
      }
    },
    {
      "cell_type": "markdown",
      "source": [
        "# Data Analysis\n",
        "\n"
      ],
      "metadata": {
        "id": "SMKiW438CI5c"
      }
    },
    {
      "cell_type": "code",
      "source": [
        "#reading the excel file with info according to district\n",
        "import pandas as pd\n",
        "df = pd.read_excel('Uganda_Karamoja_District_Crop_Yield_Population.xlsx',engine='openpyxl')\n",
        "df.head()"
      ],
      "metadata": {
        "colab": {
          "base_uri": "https://localhost:8080/",
          "height": 226
        },
        "id": "G8Pyk2Dr4wI0",
        "outputId": "aa849ef6-f5cd-40d0-a597-bf54679b172e"
      },
      "execution_count": 2,
      "outputs": [
        {
          "output_type": "execute_result",
          "data": {
            "text/plain": [
              "   OBJECTID     NAME     POP        Area  S_Yield_Ha  M_Yield_Ha  \\\n",
              "0        92     ABIM   90385  2771977106         449        1040   \n",
              "1        96   AMUDAT  101790  1643582836         205        1297   \n",
              "2        20  KAABONG  627057  7373606003         279         945   \n",
              "3        85   KOTIDO  243157  3641539808         331        1148   \n",
              "4         5   MOROTO  127811  3570160948         128         355   \n",
              "\n",
              "   Crop_Area_Ha     S_Area_Ha    M_Area_Ha  S_Prod_Tot  M_Prod_Tot  \n",
              "0   5470.068394   3277.295971  1848.621855     1471506     1922567  \n",
              "1   5765.443719   2973.423860  2733.661014      609552     3545558  \n",
              "2  28121.672530  20544.194960  7394.416334     5731830     6987723  \n",
              "3  53032.649450  50247.443900  1751.372284    16631904     2010575  \n",
              "4   5954.814048   4741.748776  1190.050606      606944      422468  "
            ],
            "text/html": [
              "\n",
              "  <div id=\"df-cf118a24-c144-4a58-b17a-59aabb6f9cd7\" class=\"colab-df-container\">\n",
              "    <div>\n",
              "<style scoped>\n",
              "    .dataframe tbody tr th:only-of-type {\n",
              "        vertical-align: middle;\n",
              "    }\n",
              "\n",
              "    .dataframe tbody tr th {\n",
              "        vertical-align: top;\n",
              "    }\n",
              "\n",
              "    .dataframe thead th {\n",
              "        text-align: right;\n",
              "    }\n",
              "</style>\n",
              "<table border=\"1\" class=\"dataframe\">\n",
              "  <thead>\n",
              "    <tr style=\"text-align: right;\">\n",
              "      <th></th>\n",
              "      <th>OBJECTID</th>\n",
              "      <th>NAME</th>\n",
              "      <th>POP</th>\n",
              "      <th>Area</th>\n",
              "      <th>S_Yield_Ha</th>\n",
              "      <th>M_Yield_Ha</th>\n",
              "      <th>Crop_Area_Ha</th>\n",
              "      <th>S_Area_Ha</th>\n",
              "      <th>M_Area_Ha</th>\n",
              "      <th>S_Prod_Tot</th>\n",
              "      <th>M_Prod_Tot</th>\n",
              "    </tr>\n",
              "  </thead>\n",
              "  <tbody>\n",
              "    <tr>\n",
              "      <th>0</th>\n",
              "      <td>92</td>\n",
              "      <td>ABIM</td>\n",
              "      <td>90385</td>\n",
              "      <td>2771977106</td>\n",
              "      <td>449</td>\n",
              "      <td>1040</td>\n",
              "      <td>5470.068394</td>\n",
              "      <td>3277.295971</td>\n",
              "      <td>1848.621855</td>\n",
              "      <td>1471506</td>\n",
              "      <td>1922567</td>\n",
              "    </tr>\n",
              "    <tr>\n",
              "      <th>1</th>\n",
              "      <td>96</td>\n",
              "      <td>AMUDAT</td>\n",
              "      <td>101790</td>\n",
              "      <td>1643582836</td>\n",
              "      <td>205</td>\n",
              "      <td>1297</td>\n",
              "      <td>5765.443719</td>\n",
              "      <td>2973.423860</td>\n",
              "      <td>2733.661014</td>\n",
              "      <td>609552</td>\n",
              "      <td>3545558</td>\n",
              "    </tr>\n",
              "    <tr>\n",
              "      <th>2</th>\n",
              "      <td>20</td>\n",
              "      <td>KAABONG</td>\n",
              "      <td>627057</td>\n",
              "      <td>7373606003</td>\n",
              "      <td>279</td>\n",
              "      <td>945</td>\n",
              "      <td>28121.672530</td>\n",
              "      <td>20544.194960</td>\n",
              "      <td>7394.416334</td>\n",
              "      <td>5731830</td>\n",
              "      <td>6987723</td>\n",
              "    </tr>\n",
              "    <tr>\n",
              "      <th>3</th>\n",
              "      <td>85</td>\n",
              "      <td>KOTIDO</td>\n",
              "      <td>243157</td>\n",
              "      <td>3641539808</td>\n",
              "      <td>331</td>\n",
              "      <td>1148</td>\n",
              "      <td>53032.649450</td>\n",
              "      <td>50247.443900</td>\n",
              "      <td>1751.372284</td>\n",
              "      <td>16631904</td>\n",
              "      <td>2010575</td>\n",
              "    </tr>\n",
              "    <tr>\n",
              "      <th>4</th>\n",
              "      <td>5</td>\n",
              "      <td>MOROTO</td>\n",
              "      <td>127811</td>\n",
              "      <td>3570160948</td>\n",
              "      <td>128</td>\n",
              "      <td>355</td>\n",
              "      <td>5954.814048</td>\n",
              "      <td>4741.748776</td>\n",
              "      <td>1190.050606</td>\n",
              "      <td>606944</td>\n",
              "      <td>422468</td>\n",
              "    </tr>\n",
              "  </tbody>\n",
              "</table>\n",
              "</div>\n",
              "    <div class=\"colab-df-buttons\">\n",
              "\n",
              "  <div class=\"colab-df-container\">\n",
              "    <button class=\"colab-df-convert\" onclick=\"convertToInteractive('df-cf118a24-c144-4a58-b17a-59aabb6f9cd7')\"\n",
              "            title=\"Convert this dataframe to an interactive table.\"\n",
              "            style=\"display:none;\">\n",
              "\n",
              "  <svg xmlns=\"http://www.w3.org/2000/svg\" height=\"24px\" viewBox=\"0 -960 960 960\">\n",
              "    <path d=\"M120-120v-720h720v720H120Zm60-500h600v-160H180v160Zm220 220h160v-160H400v160Zm0 220h160v-160H400v160ZM180-400h160v-160H180v160Zm440 0h160v-160H620v160ZM180-180h160v-160H180v160Zm440 0h160v-160H620v160Z\"/>\n",
              "  </svg>\n",
              "    </button>\n",
              "\n",
              "  <style>\n",
              "    .colab-df-container {\n",
              "      display:flex;\n",
              "      gap: 12px;\n",
              "    }\n",
              "\n",
              "    .colab-df-convert {\n",
              "      background-color: #E8F0FE;\n",
              "      border: none;\n",
              "      border-radius: 50%;\n",
              "      cursor: pointer;\n",
              "      display: none;\n",
              "      fill: #1967D2;\n",
              "      height: 32px;\n",
              "      padding: 0 0 0 0;\n",
              "      width: 32px;\n",
              "    }\n",
              "\n",
              "    .colab-df-convert:hover {\n",
              "      background-color: #E2EBFA;\n",
              "      box-shadow: 0px 1px 2px rgba(60, 64, 67, 0.3), 0px 1px 3px 1px rgba(60, 64, 67, 0.15);\n",
              "      fill: #174EA6;\n",
              "    }\n",
              "\n",
              "    .colab-df-buttons div {\n",
              "      margin-bottom: 4px;\n",
              "    }\n",
              "\n",
              "    [theme=dark] .colab-df-convert {\n",
              "      background-color: #3B4455;\n",
              "      fill: #D2E3FC;\n",
              "    }\n",
              "\n",
              "    [theme=dark] .colab-df-convert:hover {\n",
              "      background-color: #434B5C;\n",
              "      box-shadow: 0px 1px 3px 1px rgba(0, 0, 0, 0.15);\n",
              "      filter: drop-shadow(0px 1px 2px rgba(0, 0, 0, 0.3));\n",
              "      fill: #FFFFFF;\n",
              "    }\n",
              "  </style>\n",
              "\n",
              "    <script>\n",
              "      const buttonEl =\n",
              "        document.querySelector('#df-cf118a24-c144-4a58-b17a-59aabb6f9cd7 button.colab-df-convert');\n",
              "      buttonEl.style.display =\n",
              "        google.colab.kernel.accessAllowed ? 'block' : 'none';\n",
              "\n",
              "      async function convertToInteractive(key) {\n",
              "        const element = document.querySelector('#df-cf118a24-c144-4a58-b17a-59aabb6f9cd7');\n",
              "        const dataTable =\n",
              "          await google.colab.kernel.invokeFunction('convertToInteractive',\n",
              "                                                    [key], {});\n",
              "        if (!dataTable) return;\n",
              "\n",
              "        const docLinkHtml = 'Like what you see? Visit the ' +\n",
              "          '<a target=\"_blank\" href=https://colab.research.google.com/notebooks/data_table.ipynb>data table notebook</a>'\n",
              "          + ' to learn more about interactive tables.';\n",
              "        element.innerHTML = '';\n",
              "        dataTable['output_type'] = 'display_data';\n",
              "        await google.colab.output.renderOutput(dataTable, element);\n",
              "        const docLink = document.createElement('div');\n",
              "        docLink.innerHTML = docLinkHtml;\n",
              "        element.appendChild(docLink);\n",
              "      }\n",
              "    </script>\n",
              "  </div>\n",
              "\n",
              "\n",
              "<div id=\"df-a56fc99a-2a49-4d85-bb59-9dc0cd46d5ce\">\n",
              "  <button class=\"colab-df-quickchart\" onclick=\"quickchart('df-a56fc99a-2a49-4d85-bb59-9dc0cd46d5ce')\"\n",
              "            title=\"Suggest charts\"\n",
              "            style=\"display:none;\">\n",
              "\n",
              "<svg xmlns=\"http://www.w3.org/2000/svg\" height=\"24px\"viewBox=\"0 0 24 24\"\n",
              "     width=\"24px\">\n",
              "    <g>\n",
              "        <path d=\"M19 3H5c-1.1 0-2 .9-2 2v14c0 1.1.9 2 2 2h14c1.1 0 2-.9 2-2V5c0-1.1-.9-2-2-2zM9 17H7v-7h2v7zm4 0h-2V7h2v10zm4 0h-2v-4h2v4z\"/>\n",
              "    </g>\n",
              "</svg>\n",
              "  </button>\n",
              "\n",
              "<style>\n",
              "  .colab-df-quickchart {\n",
              "      --bg-color: #E8F0FE;\n",
              "      --fill-color: #1967D2;\n",
              "      --hover-bg-color: #E2EBFA;\n",
              "      --hover-fill-color: #174EA6;\n",
              "      --disabled-fill-color: #AAA;\n",
              "      --disabled-bg-color: #DDD;\n",
              "  }\n",
              "\n",
              "  [theme=dark] .colab-df-quickchart {\n",
              "      --bg-color: #3B4455;\n",
              "      --fill-color: #D2E3FC;\n",
              "      --hover-bg-color: #434B5C;\n",
              "      --hover-fill-color: #FFFFFF;\n",
              "      --disabled-bg-color: #3B4455;\n",
              "      --disabled-fill-color: #666;\n",
              "  }\n",
              "\n",
              "  .colab-df-quickchart {\n",
              "    background-color: var(--bg-color);\n",
              "    border: none;\n",
              "    border-radius: 50%;\n",
              "    cursor: pointer;\n",
              "    display: none;\n",
              "    fill: var(--fill-color);\n",
              "    height: 32px;\n",
              "    padding: 0;\n",
              "    width: 32px;\n",
              "  }\n",
              "\n",
              "  .colab-df-quickchart:hover {\n",
              "    background-color: var(--hover-bg-color);\n",
              "    box-shadow: 0 1px 2px rgba(60, 64, 67, 0.3), 0 1px 3px 1px rgba(60, 64, 67, 0.15);\n",
              "    fill: var(--button-hover-fill-color);\n",
              "  }\n",
              "\n",
              "  .colab-df-quickchart-complete:disabled,\n",
              "  .colab-df-quickchart-complete:disabled:hover {\n",
              "    background-color: var(--disabled-bg-color);\n",
              "    fill: var(--disabled-fill-color);\n",
              "    box-shadow: none;\n",
              "  }\n",
              "\n",
              "  .colab-df-spinner {\n",
              "    border: 2px solid var(--fill-color);\n",
              "    border-color: transparent;\n",
              "    border-bottom-color: var(--fill-color);\n",
              "    animation:\n",
              "      spin 1s steps(1) infinite;\n",
              "  }\n",
              "\n",
              "  @keyframes spin {\n",
              "    0% {\n",
              "      border-color: transparent;\n",
              "      border-bottom-color: var(--fill-color);\n",
              "      border-left-color: var(--fill-color);\n",
              "    }\n",
              "    20% {\n",
              "      border-color: transparent;\n",
              "      border-left-color: var(--fill-color);\n",
              "      border-top-color: var(--fill-color);\n",
              "    }\n",
              "    30% {\n",
              "      border-color: transparent;\n",
              "      border-left-color: var(--fill-color);\n",
              "      border-top-color: var(--fill-color);\n",
              "      border-right-color: var(--fill-color);\n",
              "    }\n",
              "    40% {\n",
              "      border-color: transparent;\n",
              "      border-right-color: var(--fill-color);\n",
              "      border-top-color: var(--fill-color);\n",
              "    }\n",
              "    60% {\n",
              "      border-color: transparent;\n",
              "      border-right-color: var(--fill-color);\n",
              "    }\n",
              "    80% {\n",
              "      border-color: transparent;\n",
              "      border-right-color: var(--fill-color);\n",
              "      border-bottom-color: var(--fill-color);\n",
              "    }\n",
              "    90% {\n",
              "      border-color: transparent;\n",
              "      border-bottom-color: var(--fill-color);\n",
              "    }\n",
              "  }\n",
              "</style>\n",
              "\n",
              "  <script>\n",
              "    async function quickchart(key) {\n",
              "      const quickchartButtonEl =\n",
              "        document.querySelector('#' + key + ' button');\n",
              "      quickchartButtonEl.disabled = true;  // To prevent multiple clicks.\n",
              "      quickchartButtonEl.classList.add('colab-df-spinner');\n",
              "      try {\n",
              "        const charts = await google.colab.kernel.invokeFunction(\n",
              "            'suggestCharts', [key], {});\n",
              "      } catch (error) {\n",
              "        console.error('Error during call to suggestCharts:', error);\n",
              "      }\n",
              "      quickchartButtonEl.classList.remove('colab-df-spinner');\n",
              "      quickchartButtonEl.classList.add('colab-df-quickchart-complete');\n",
              "    }\n",
              "    (() => {\n",
              "      let quickchartButtonEl =\n",
              "        document.querySelector('#df-a56fc99a-2a49-4d85-bb59-9dc0cd46d5ce button');\n",
              "      quickchartButtonEl.style.display =\n",
              "        google.colab.kernel.accessAllowed ? 'block' : 'none';\n",
              "    })();\n",
              "  </script>\n",
              "</div>\n",
              "\n",
              "    </div>\n",
              "  </div>\n"
            ],
            "application/vnd.google.colaboratory.intrinsic+json": {
              "type": "dataframe",
              "variable_name": "df",
              "summary": "{\n  \"name\": \"df\",\n  \"rows\": 7,\n  \"fields\": [\n    {\n      \"column\": \"OBJECTID\",\n      \"properties\": {\n        \"dtype\": \"number\",\n        \"std\": 36,\n        \"min\": 5,\n        \"max\": 96,\n        \"num_unique_values\": 7,\n        \"samples\": [\n          92,\n          96,\n          54\n        ],\n        \"semantic_type\": \"\",\n        \"description\": \"\"\n      }\n    },\n    {\n      \"column\": \"NAME\",\n      \"properties\": {\n        \"dtype\": \"string\",\n        \"num_unique_values\": 7,\n        \"samples\": [\n          \"ABIM\",\n          \"AMUDAT\",\n          \"NAKAPIRIPIRIT\"\n        ],\n        \"semantic_type\": \"\",\n        \"description\": \"\"\n      }\n    },\n    {\n      \"column\": \"POP\",\n      \"properties\": {\n        \"dtype\": \"number\",\n        \"std\": 188604,\n        \"min\": 90385,\n        \"max\": 627057,\n        \"num_unique_values\": 7,\n        \"samples\": [\n          90385,\n          101790,\n          146780\n        ],\n        \"semantic_type\": \"\",\n        \"description\": \"\"\n      }\n    },\n    {\n      \"column\": \"Area\",\n      \"properties\": {\n        \"dtype\": \"number\",\n        \"std\": 1781859644,\n        \"min\": 1643582836,\n        \"max\": 7373606003,\n        \"num_unique_values\": 7,\n        \"samples\": [\n          2771977106,\n          1643582836,\n          4216323900\n        ],\n        \"semantic_type\": \"\",\n        \"description\": \"\"\n      }\n    },\n    {\n      \"column\": \"S_Yield_Ha\",\n      \"properties\": {\n        \"dtype\": \"number\",\n        \"std\": 119,\n        \"min\": 128,\n        \"max\": 449,\n        \"num_unique_values\": 7,\n        \"samples\": [\n          449,\n          205,\n          356\n        ],\n        \"semantic_type\": \"\",\n        \"description\": \"\"\n      }\n    },\n    {\n      \"column\": \"M_Yield_Ha\",\n      \"properties\": {\n        \"dtype\": \"number\",\n        \"std\": 321,\n        \"min\": 355,\n        \"max\": 1297,\n        \"num_unique_values\": 7,\n        \"samples\": [\n          1040,\n          1297,\n          1264\n        ],\n        \"semantic_type\": \"\",\n        \"description\": \"\"\n      }\n    },\n    {\n      \"column\": \"Crop_Area_Ha\",\n      \"properties\": {\n        \"dtype\": \"number\",\n        \"std\": 17363.854165436525,\n        \"min\": 5470.068394,\n        \"max\": 53032.64945,\n        \"num_unique_values\": 7,\n        \"samples\": [\n          5470.068394,\n          5765.443719,\n          26372.69849\n        ],\n        \"semantic_type\": \"\",\n        \"description\": \"\"\n      }\n    },\n    {\n      \"column\": \"S_Area_Ha\",\n      \"properties\": {\n        \"dtype\": \"number\",\n        \"std\": 16625.963460313287,\n        \"min\": 2973.42386,\n        \"max\": 50247.4439,\n        \"num_unique_values\": 7,\n        \"samples\": [\n          3277.295971,\n          2973.42386,\n          19237.33321\n        ],\n        \"semantic_type\": \"\",\n        \"description\": \"\"\n      }\n    },\n    {\n      \"column\": \"M_Area_Ha\",\n      \"properties\": {\n        \"dtype\": \"number\",\n        \"std\": 2678.911440732962,\n        \"min\": 1190.050606,\n        \"max\": 7394.416334,\n        \"num_unique_values\": 7,\n        \"samples\": [\n          1848.621855,\n          2733.661014,\n          6425.788414\n        ],\n        \"semantic_type\": \"\",\n        \"description\": \"\"\n      }\n    },\n    {\n      \"column\": \"S_Prod_Tot\",\n      \"properties\": {\n        \"dtype\": \"number\",\n        \"std\": 5743723,\n        \"min\": 606944,\n        \"max\": 16631904,\n        \"num_unique_values\": 7,\n        \"samples\": [\n          1471506,\n          609552,\n          6848491\n        ],\n        \"semantic_type\": \"\",\n        \"description\": \"\"\n      }\n    },\n    {\n      \"column\": \"M_Prod_Tot\",\n      \"properties\": {\n        \"dtype\": \"number\",\n        \"std\": 2877188,\n        \"min\": 422468,\n        \"max\": 8122197,\n        \"num_unique_values\": 7,\n        \"samples\": [\n          1922567,\n          3545558,\n          8122197\n        ],\n        \"semantic_type\": \"\",\n        \"description\": \"\"\n      }\n    }\n  ]\n}"
            }
          },
          "metadata": {},
          "execution_count": 2
        }
      ]
    },
    {
      "cell_type": "code",
      "source": [
        "print(df.shape)  #checking the number of rows and columns\n",
        "print(df.columns) #checking the names of each column\n",
        "df.duplicated().sum() #checking for duplicated data"
      ],
      "metadata": {
        "colab": {
          "base_uri": "https://localhost:8080/"
        },
        "id": "gLlJEWHa76Rz",
        "outputId": "c68e9fb1-f0eb-41b0-e955-ad66f4841946"
      },
      "execution_count": null,
      "outputs": [
        {
          "output_type": "stream",
          "name": "stdout",
          "text": [
            "(7, 11)\n",
            "Index(['OBJECTID', 'NAME', 'POP', 'Area', 'S_Yield_Ha', 'M_Yield_Ha',\n",
            "       'Crop_Area_Ha', 'S_Area_Ha', 'M_Area_Ha', 'S_Prod_Tot', 'M_Prod_Tot'],\n",
            "      dtype='object')\n"
          ]
        },
        {
          "output_type": "execute_result",
          "data": {
            "text/plain": [
              "0"
            ]
          },
          "metadata": {},
          "execution_count": 7
        }
      ]
    },
    {
      "cell_type": "markdown",
      "source": [
        "The file containing information about the agricultural productivity of districts within the Karamoja region has 11 columns and 7 rows.The column names are: OBJECTID,NAME, POP, Area, S_Yield_Ha, M_Yield_Ha,Crop_Area_Ha,S_Area_Ha,M_Area_Ha,S_Prod_Tot,M_Prod_Tot respectively. The file has neither duplicated nor null values"
      ],
      "metadata": {
        "id": "zGEGjOfbuelf"
      }
    },
    {
      "cell_type": "code",
      "source": [
        "subcounty_yield = pd.read_excel('Uganda_Karamoja_Subcounty_Crop_Yield_population.xlsx', engine='openpyxl')\n",
        "subcounty_yield.head()"
      ],
      "metadata": {
        "colab": {
          "base_uri": "https://localhost:8080/",
          "height": 243
        },
        "id": "6UwZLDdR9Wrq",
        "outputId": "bec3311a-454a-4f33-8f32-e2053934c539"
      },
      "execution_count": 3,
      "outputs": [
        {
          "output_type": "execute_result",
          "data": {
            "text/plain": [
              "   OBJECTID       SUBCOUNTY_NAME DISTRICT_NAME    POP        Area Karamoja  \\\n",
              "0       263              KACHERI        KOTIDO  17244  1067176155        Y   \n",
              "1       264               KOTIDO        KOTIDO  52771   597575188        Y   \n",
              "2       265  KOTIDO TOWN COUNCIL        KOTIDO  27389    23972401        Y   \n",
              "3       266         NAKAPERIMORU        KOTIDO  38775   419111591        Y   \n",
              "4       267           PANYANGARA        KOTIDO  65704   880955930        Y   \n",
              "\n",
              "   S_Yield_Ha   M_Yield_Ha  Crop_Area_Ha     S_Area_Ha   M_Area_Ha  \\\n",
              "0  354.207411  1137.467019   7023.533691   6434.342449  528.124229   \n",
              "1  367.890523  1162.996687  13587.990760  12455.592640  824.767081   \n",
              "2  369.314177  1167.005832   1656.531855   1520.322052    8.561644   \n",
              "3  283.324569   852.366578   7087.823334   6761.488901   45.721712   \n",
              "4  373.836926  1283.859882  10398.249390  10111.198130  172.611914   \n",
              "\n",
              "     S_Prod_Tot     M_Prod_Tot  \n",
              "0  2.279092e+06  600723.892900  \n",
              "1  4.582294e+06  959201.382500  \n",
              "2  5.614765e+05    9991.488268  \n",
              "3  1.915696e+06   38971.659080  \n",
              "4  3.779939e+06  221609.511400  "
            ],
            "text/html": [
              "\n",
              "  <div id=\"df-d2c61f00-ea40-409e-9669-7eb88b13f994\" class=\"colab-df-container\">\n",
              "    <div>\n",
              "<style scoped>\n",
              "    .dataframe tbody tr th:only-of-type {\n",
              "        vertical-align: middle;\n",
              "    }\n",
              "\n",
              "    .dataframe tbody tr th {\n",
              "        vertical-align: top;\n",
              "    }\n",
              "\n",
              "    .dataframe thead th {\n",
              "        text-align: right;\n",
              "    }\n",
              "</style>\n",
              "<table border=\"1\" class=\"dataframe\">\n",
              "  <thead>\n",
              "    <tr style=\"text-align: right;\">\n",
              "      <th></th>\n",
              "      <th>OBJECTID</th>\n",
              "      <th>SUBCOUNTY_NAME</th>\n",
              "      <th>DISTRICT_NAME</th>\n",
              "      <th>POP</th>\n",
              "      <th>Area</th>\n",
              "      <th>Karamoja</th>\n",
              "      <th>S_Yield_Ha</th>\n",
              "      <th>M_Yield_Ha</th>\n",
              "      <th>Crop_Area_Ha</th>\n",
              "      <th>S_Area_Ha</th>\n",
              "      <th>M_Area_Ha</th>\n",
              "      <th>S_Prod_Tot</th>\n",
              "      <th>M_Prod_Tot</th>\n",
              "    </tr>\n",
              "  </thead>\n",
              "  <tbody>\n",
              "    <tr>\n",
              "      <th>0</th>\n",
              "      <td>263</td>\n",
              "      <td>KACHERI</td>\n",
              "      <td>KOTIDO</td>\n",
              "      <td>17244</td>\n",
              "      <td>1067176155</td>\n",
              "      <td>Y</td>\n",
              "      <td>354.207411</td>\n",
              "      <td>1137.467019</td>\n",
              "      <td>7023.533691</td>\n",
              "      <td>6434.342449</td>\n",
              "      <td>528.124229</td>\n",
              "      <td>2.279092e+06</td>\n",
              "      <td>600723.892900</td>\n",
              "    </tr>\n",
              "    <tr>\n",
              "      <th>1</th>\n",
              "      <td>264</td>\n",
              "      <td>KOTIDO</td>\n",
              "      <td>KOTIDO</td>\n",
              "      <td>52771</td>\n",
              "      <td>597575188</td>\n",
              "      <td>Y</td>\n",
              "      <td>367.890523</td>\n",
              "      <td>1162.996687</td>\n",
              "      <td>13587.990760</td>\n",
              "      <td>12455.592640</td>\n",
              "      <td>824.767081</td>\n",
              "      <td>4.582294e+06</td>\n",
              "      <td>959201.382500</td>\n",
              "    </tr>\n",
              "    <tr>\n",
              "      <th>2</th>\n",
              "      <td>265</td>\n",
              "      <td>KOTIDO TOWN COUNCIL</td>\n",
              "      <td>KOTIDO</td>\n",
              "      <td>27389</td>\n",
              "      <td>23972401</td>\n",
              "      <td>Y</td>\n",
              "      <td>369.314177</td>\n",
              "      <td>1167.005832</td>\n",
              "      <td>1656.531855</td>\n",
              "      <td>1520.322052</td>\n",
              "      <td>8.561644</td>\n",
              "      <td>5.614765e+05</td>\n",
              "      <td>9991.488268</td>\n",
              "    </tr>\n",
              "    <tr>\n",
              "      <th>3</th>\n",
              "      <td>266</td>\n",
              "      <td>NAKAPERIMORU</td>\n",
              "      <td>KOTIDO</td>\n",
              "      <td>38775</td>\n",
              "      <td>419111591</td>\n",
              "      <td>Y</td>\n",
              "      <td>283.324569</td>\n",
              "      <td>852.366578</td>\n",
              "      <td>7087.823334</td>\n",
              "      <td>6761.488901</td>\n",
              "      <td>45.721712</td>\n",
              "      <td>1.915696e+06</td>\n",
              "      <td>38971.659080</td>\n",
              "    </tr>\n",
              "    <tr>\n",
              "      <th>4</th>\n",
              "      <td>267</td>\n",
              "      <td>PANYANGARA</td>\n",
              "      <td>KOTIDO</td>\n",
              "      <td>65704</td>\n",
              "      <td>880955930</td>\n",
              "      <td>Y</td>\n",
              "      <td>373.836926</td>\n",
              "      <td>1283.859882</td>\n",
              "      <td>10398.249390</td>\n",
              "      <td>10111.198130</td>\n",
              "      <td>172.611914</td>\n",
              "      <td>3.779939e+06</td>\n",
              "      <td>221609.511400</td>\n",
              "    </tr>\n",
              "  </tbody>\n",
              "</table>\n",
              "</div>\n",
              "    <div class=\"colab-df-buttons\">\n",
              "\n",
              "  <div class=\"colab-df-container\">\n",
              "    <button class=\"colab-df-convert\" onclick=\"convertToInteractive('df-d2c61f00-ea40-409e-9669-7eb88b13f994')\"\n",
              "            title=\"Convert this dataframe to an interactive table.\"\n",
              "            style=\"display:none;\">\n",
              "\n",
              "  <svg xmlns=\"http://www.w3.org/2000/svg\" height=\"24px\" viewBox=\"0 -960 960 960\">\n",
              "    <path d=\"M120-120v-720h720v720H120Zm60-500h600v-160H180v160Zm220 220h160v-160H400v160Zm0 220h160v-160H400v160ZM180-400h160v-160H180v160Zm440 0h160v-160H620v160ZM180-180h160v-160H180v160Zm440 0h160v-160H620v160Z\"/>\n",
              "  </svg>\n",
              "    </button>\n",
              "\n",
              "  <style>\n",
              "    .colab-df-container {\n",
              "      display:flex;\n",
              "      gap: 12px;\n",
              "    }\n",
              "\n",
              "    .colab-df-convert {\n",
              "      background-color: #E8F0FE;\n",
              "      border: none;\n",
              "      border-radius: 50%;\n",
              "      cursor: pointer;\n",
              "      display: none;\n",
              "      fill: #1967D2;\n",
              "      height: 32px;\n",
              "      padding: 0 0 0 0;\n",
              "      width: 32px;\n",
              "    }\n",
              "\n",
              "    .colab-df-convert:hover {\n",
              "      background-color: #E2EBFA;\n",
              "      box-shadow: 0px 1px 2px rgba(60, 64, 67, 0.3), 0px 1px 3px 1px rgba(60, 64, 67, 0.15);\n",
              "      fill: #174EA6;\n",
              "    }\n",
              "\n",
              "    .colab-df-buttons div {\n",
              "      margin-bottom: 4px;\n",
              "    }\n",
              "\n",
              "    [theme=dark] .colab-df-convert {\n",
              "      background-color: #3B4455;\n",
              "      fill: #D2E3FC;\n",
              "    }\n",
              "\n",
              "    [theme=dark] .colab-df-convert:hover {\n",
              "      background-color: #434B5C;\n",
              "      box-shadow: 0px 1px 3px 1px rgba(0, 0, 0, 0.15);\n",
              "      filter: drop-shadow(0px 1px 2px rgba(0, 0, 0, 0.3));\n",
              "      fill: #FFFFFF;\n",
              "    }\n",
              "  </style>\n",
              "\n",
              "    <script>\n",
              "      const buttonEl =\n",
              "        document.querySelector('#df-d2c61f00-ea40-409e-9669-7eb88b13f994 button.colab-df-convert');\n",
              "      buttonEl.style.display =\n",
              "        google.colab.kernel.accessAllowed ? 'block' : 'none';\n",
              "\n",
              "      async function convertToInteractive(key) {\n",
              "        const element = document.querySelector('#df-d2c61f00-ea40-409e-9669-7eb88b13f994');\n",
              "        const dataTable =\n",
              "          await google.colab.kernel.invokeFunction('convertToInteractive',\n",
              "                                                    [key], {});\n",
              "        if (!dataTable) return;\n",
              "\n",
              "        const docLinkHtml = 'Like what you see? Visit the ' +\n",
              "          '<a target=\"_blank\" href=https://colab.research.google.com/notebooks/data_table.ipynb>data table notebook</a>'\n",
              "          + ' to learn more about interactive tables.';\n",
              "        element.innerHTML = '';\n",
              "        dataTable['output_type'] = 'display_data';\n",
              "        await google.colab.output.renderOutput(dataTable, element);\n",
              "        const docLink = document.createElement('div');\n",
              "        docLink.innerHTML = docLinkHtml;\n",
              "        element.appendChild(docLink);\n",
              "      }\n",
              "    </script>\n",
              "  </div>\n",
              "\n",
              "\n",
              "<div id=\"df-b8e23c16-8ac5-4b16-b4f6-c521bd0e3aaf\">\n",
              "  <button class=\"colab-df-quickchart\" onclick=\"quickchart('df-b8e23c16-8ac5-4b16-b4f6-c521bd0e3aaf')\"\n",
              "            title=\"Suggest charts\"\n",
              "            style=\"display:none;\">\n",
              "\n",
              "<svg xmlns=\"http://www.w3.org/2000/svg\" height=\"24px\"viewBox=\"0 0 24 24\"\n",
              "     width=\"24px\">\n",
              "    <g>\n",
              "        <path d=\"M19 3H5c-1.1 0-2 .9-2 2v14c0 1.1.9 2 2 2h14c1.1 0 2-.9 2-2V5c0-1.1-.9-2-2-2zM9 17H7v-7h2v7zm4 0h-2V7h2v10zm4 0h-2v-4h2v4z\"/>\n",
              "    </g>\n",
              "</svg>\n",
              "  </button>\n",
              "\n",
              "<style>\n",
              "  .colab-df-quickchart {\n",
              "      --bg-color: #E8F0FE;\n",
              "      --fill-color: #1967D2;\n",
              "      --hover-bg-color: #E2EBFA;\n",
              "      --hover-fill-color: #174EA6;\n",
              "      --disabled-fill-color: #AAA;\n",
              "      --disabled-bg-color: #DDD;\n",
              "  }\n",
              "\n",
              "  [theme=dark] .colab-df-quickchart {\n",
              "      --bg-color: #3B4455;\n",
              "      --fill-color: #D2E3FC;\n",
              "      --hover-bg-color: #434B5C;\n",
              "      --hover-fill-color: #FFFFFF;\n",
              "      --disabled-bg-color: #3B4455;\n",
              "      --disabled-fill-color: #666;\n",
              "  }\n",
              "\n",
              "  .colab-df-quickchart {\n",
              "    background-color: var(--bg-color);\n",
              "    border: none;\n",
              "    border-radius: 50%;\n",
              "    cursor: pointer;\n",
              "    display: none;\n",
              "    fill: var(--fill-color);\n",
              "    height: 32px;\n",
              "    padding: 0;\n",
              "    width: 32px;\n",
              "  }\n",
              "\n",
              "  .colab-df-quickchart:hover {\n",
              "    background-color: var(--hover-bg-color);\n",
              "    box-shadow: 0 1px 2px rgba(60, 64, 67, 0.3), 0 1px 3px 1px rgba(60, 64, 67, 0.15);\n",
              "    fill: var(--button-hover-fill-color);\n",
              "  }\n",
              "\n",
              "  .colab-df-quickchart-complete:disabled,\n",
              "  .colab-df-quickchart-complete:disabled:hover {\n",
              "    background-color: var(--disabled-bg-color);\n",
              "    fill: var(--disabled-fill-color);\n",
              "    box-shadow: none;\n",
              "  }\n",
              "\n",
              "  .colab-df-spinner {\n",
              "    border: 2px solid var(--fill-color);\n",
              "    border-color: transparent;\n",
              "    border-bottom-color: var(--fill-color);\n",
              "    animation:\n",
              "      spin 1s steps(1) infinite;\n",
              "  }\n",
              "\n",
              "  @keyframes spin {\n",
              "    0% {\n",
              "      border-color: transparent;\n",
              "      border-bottom-color: var(--fill-color);\n",
              "      border-left-color: var(--fill-color);\n",
              "    }\n",
              "    20% {\n",
              "      border-color: transparent;\n",
              "      border-left-color: var(--fill-color);\n",
              "      border-top-color: var(--fill-color);\n",
              "    }\n",
              "    30% {\n",
              "      border-color: transparent;\n",
              "      border-left-color: var(--fill-color);\n",
              "      border-top-color: var(--fill-color);\n",
              "      border-right-color: var(--fill-color);\n",
              "    }\n",
              "    40% {\n",
              "      border-color: transparent;\n",
              "      border-right-color: var(--fill-color);\n",
              "      border-top-color: var(--fill-color);\n",
              "    }\n",
              "    60% {\n",
              "      border-color: transparent;\n",
              "      border-right-color: var(--fill-color);\n",
              "    }\n",
              "    80% {\n",
              "      border-color: transparent;\n",
              "      border-right-color: var(--fill-color);\n",
              "      border-bottom-color: var(--fill-color);\n",
              "    }\n",
              "    90% {\n",
              "      border-color: transparent;\n",
              "      border-bottom-color: var(--fill-color);\n",
              "    }\n",
              "  }\n",
              "</style>\n",
              "\n",
              "  <script>\n",
              "    async function quickchart(key) {\n",
              "      const quickchartButtonEl =\n",
              "        document.querySelector('#' + key + ' button');\n",
              "      quickchartButtonEl.disabled = true;  // To prevent multiple clicks.\n",
              "      quickchartButtonEl.classList.add('colab-df-spinner');\n",
              "      try {\n",
              "        const charts = await google.colab.kernel.invokeFunction(\n",
              "            'suggestCharts', [key], {});\n",
              "      } catch (error) {\n",
              "        console.error('Error during call to suggestCharts:', error);\n",
              "      }\n",
              "      quickchartButtonEl.classList.remove('colab-df-spinner');\n",
              "      quickchartButtonEl.classList.add('colab-df-quickchart-complete');\n",
              "    }\n",
              "    (() => {\n",
              "      let quickchartButtonEl =\n",
              "        document.querySelector('#df-b8e23c16-8ac5-4b16-b4f6-c521bd0e3aaf button');\n",
              "      quickchartButtonEl.style.display =\n",
              "        google.colab.kernel.accessAllowed ? 'block' : 'none';\n",
              "    })();\n",
              "  </script>\n",
              "</div>\n",
              "\n",
              "    </div>\n",
              "  </div>\n"
            ],
            "application/vnd.google.colaboratory.intrinsic+json": {
              "type": "dataframe",
              "variable_name": "subcounty_yield",
              "summary": "{\n  \"name\": \"subcounty_yield\",\n  \"rows\": 52,\n  \"fields\": [\n    {\n      \"column\": \"OBJECTID\",\n      \"properties\": {\n        \"dtype\": \"number\",\n        \"std\": 280,\n        \"min\": 263,\n        \"max\": 1320,\n        \"num_unique_values\": 52,\n        \"samples\": [\n          604,\n          1023,\n          1029\n        ],\n        \"semantic_type\": \"\",\n        \"description\": \"\"\n      }\n    },\n    {\n      \"column\": \"SUBCOUNTY_NAME\",\n      \"properties\": {\n        \"dtype\": \"string\",\n        \"num_unique_values\": 52,\n        \"samples\": [\n          \"SIDOK\",\n          \"IRIIRI\",\n          \"NGOLERIET\"\n        ],\n        \"semantic_type\": \"\",\n        \"description\": \"\"\n      }\n    },\n    {\n      \"column\": \"DISTRICT_NAME\",\n      \"properties\": {\n        \"dtype\": \"category\",\n        \"num_unique_values\": 7,\n        \"samples\": [\n          \"KOTIDO\",\n          \"KAABONG\",\n          \"NAKAPIRIPIRIT\"\n        ],\n        \"semantic_type\": \"\",\n        \"description\": \"\"\n      }\n    },\n    {\n      \"column\": \"POP\",\n      \"properties\": {\n        \"dtype\": \"number\",\n        \"std\": 20865,\n        \"min\": 1418,\n        \"max\": 100919,\n        \"num_unique_values\": 52,\n        \"samples\": [\n          24092,\n          46979,\n          20790\n        ],\n        \"semantic_type\": \"\",\n        \"description\": \"\"\n      }\n    },\n    {\n      \"column\": \"Area\",\n      \"properties\": {\n        \"dtype\": \"number\",\n        \"std\": 491330849,\n        \"min\": 2121209,\n        \"max\": 2069554899,\n        \"num_unique_values\": 52,\n        \"samples\": [\n          125330583,\n          1030623258,\n          158887552\n        ],\n        \"semantic_type\": \"\",\n        \"description\": \"\"\n      }\n    },\n    {\n      \"column\": \"Karamoja\",\n      \"properties\": {\n        \"dtype\": \"category\",\n        \"num_unique_values\": 1,\n        \"samples\": [\n          \"Y\"\n        ],\n        \"semantic_type\": \"\",\n        \"description\": \"\"\n      }\n    },\n    {\n      \"column\": \"S_Yield_Ha\",\n      \"properties\": {\n        \"dtype\": \"number\",\n        \"std\": 118.56990673395282,\n        \"min\": 108.1564114,\n        \"max\": 560.3130703,\n        \"num_unique_values\": 52,\n        \"samples\": [\n          285.3362943\n        ],\n        \"semantic_type\": \"\",\n        \"description\": \"\"\n      }\n    },\n    {\n      \"column\": \"M_Yield_Ha\",\n      \"properties\": {\n        \"dtype\": \"number\",\n        \"std\": 321.6419012308184,\n        \"min\": 0.0,\n        \"max\": 1396.991494,\n        \"num_unique_values\": 52,\n        \"samples\": [\n          1396.991494\n        ],\n        \"semantic_type\": \"\",\n        \"description\": \"\"\n      }\n    },\n    {\n      \"column\": \"Crop_Area_Ha\",\n      \"properties\": {\n        \"dtype\": \"number\",\n        \"std\": 3110.505916547498,\n        \"min\": 0.171390461,\n        \"max\": 13587.99076,\n        \"num_unique_values\": 52,\n        \"samples\": [\n          957.4939458\n        ],\n        \"semantic_type\": \"\",\n        \"description\": \"\"\n      }\n    },\n    {\n      \"column\": \"S_Area_Ha\",\n      \"properties\": {\n        \"dtype\": \"number\",\n        \"std\": 2954.3558576323685,\n        \"min\": 0.130940756,\n        \"max\": 12964.49973,\n        \"num_unique_values\": 52,\n        \"samples\": [\n          859.6490275\n        ],\n        \"semantic_type\": \"\",\n        \"description\": \"\"\n      }\n    },\n    {\n      \"column\": \"M_Area_Ha\",\n      \"properties\": {\n        \"dtype\": \"number\",\n        \"std\": 724.0922880324312,\n        \"min\": 0.0,\n        \"max\": 3840.698081,\n        \"num_unique_values\": 52,\n        \"samples\": [\n          97.5422428\n        ],\n        \"semantic_type\": \"\",\n        \"description\": \"\"\n      }\n    },\n    {\n      \"column\": \"S_Prod_Tot\",\n      \"properties\": {\n        \"dtype\": \"number\",\n        \"std\": 991583.9383273157,\n        \"min\": 17.28125956,\n        \"max\": 4582294.492,\n        \"num_unique_values\": 52,\n        \"samples\": [\n          245289.0679\n        ],\n        \"semantic_type\": \"\",\n        \"description\": \"\"\n      }\n    },\n    {\n      \"column\": \"M_Prod_Tot\",\n      \"properties\": {\n        \"dtype\": \"number\",\n        \"std\": 793970.6681566153,\n        \"min\": 0.0,\n        \"max\": 4365057.517,\n        \"num_unique_values\": 52,\n        \"samples\": [\n          136265.6835\n        ],\n        \"semantic_type\": \"\",\n        \"description\": \"\"\n      }\n    }\n  ]\n}"
            }
          },
          "metadata": {},
          "execution_count": 3
        }
      ]
    },
    {
      "cell_type": "code",
      "source": [
        "print(subcounty_yield.shape) #checking for rows and columns\n",
        "print(subcounty_yield.columns) #checking the column names\n",
        "subcounty_yield.duplicated().sum() #checking for duplicated values"
      ],
      "metadata": {
        "colab": {
          "base_uri": "https://localhost:8080/"
        },
        "id": "SliDNlEGJKgv",
        "outputId": "4a6421a8-44fd-4af0-ad4d-aa91dfdfc60c"
      },
      "execution_count": 6,
      "outputs": [
        {
          "output_type": "stream",
          "name": "stdout",
          "text": [
            "(52, 13)\n",
            "Index(['OBJECTID', 'SUBCOUNTY_NAME', 'DISTRICT_NAME', 'POP', 'Area',\n",
            "       'Karamoja', 'S_Yield_Ha', 'M_Yield_Ha', 'Crop_Area_Ha', 'S_Area_Ha',\n",
            "       'M_Area_Ha', 'S_Prod_Tot', 'M_Prod_Tot'],\n",
            "      dtype='object')\n"
          ]
        },
        {
          "output_type": "execute_result",
          "data": {
            "text/plain": [
              "0"
            ]
          },
          "metadata": {},
          "execution_count": 6
        }
      ]
    },
    {
      "cell_type": "markdown",
      "source": [
        "The file containing information about the agricultural productivity of subcounty within the Karamoja region has 11 columns and 7 rows.The column names are: OBJECTID,SUBCOUNTY_NAME, DISTRICT_NAME,POP, Area, Karamoja,S_Yield_Ha, M_Yield_Ha,Crop_Area_Ha,S_Area_Ha,M_Area_Ha,S_Prod_Tot,M_Prod_Tot respectively. The file has neither duplicated nor null values."
      ],
      "metadata": {
        "id": "pd7xd5Z2unfb"
      }
    },
    {
      "cell_type": "markdown",
      "source": [
        "# Data Vizualization"
      ],
      "metadata": {
        "id": "y9a9iML4vn4A"
      }
    },
    {
      "cell_type": "code",
      "source": [
        "#loading the needed libraries for data visualiztion\n",
        "import matplotlib.pyplot as plt\n",
        "import seaborn as sns"
      ],
      "metadata": {
        "id": "DUDCuYZROv-5"
      },
      "execution_count": 4,
      "outputs": []
    },
    {
      "cell_type": "code",
      "source": [
        "#what district has the highest population\n",
        "#Using a histogram to determine that\n",
        "plt.figure(figsize=(53,10))\n",
        "plt.subplot(1,2,1)\n",
        "sns.countplot(x= 'NAME', data=df, hue= 'POP').set_title('Population of each District')\n",
        "plt.show()"
      ],
      "metadata": {
        "colab": {
          "base_uri": "https://localhost:8080/",
          "height": 395
        },
        "id": "yVmxYCiFQDu5",
        "outputId": "28fe4adc-dc55-46ac-9f43-dd0d3a33f0a8"
      },
      "execution_count": 5,
      "outputs": [
        {
          "output_type": "display_data",
          "data": {
            "text/plain": [
              "<Figure size 5300x1000 with 1 Axes>"
            ],
            "image/png": "[encoded data removed]"
          },
          "metadata": {}
        }
      ]
    },
    {
      "cell_type": "code",
      "source": [
        "#How much maize does each district yield?\n",
        "plt.figure(figsize=(53,10))\n",
        "plt.subplot(1,2,1)\n",
        "sns.countplot(x= 'NAME', data=df, hue= 'M_Yield_Ha').set_title('Maize Yield By District')\n",
        "plt.show()"
      ],
      "metadata": {
        "colab": {
          "base_uri": "https://localhost:8080/",
          "height": 395
        },
        "id": "817qL5cC-vzP",
        "outputId": "ef706e48-9afc-4c87-ab35-634b66fa9add"
      },
      "execution_count": 6,
      "outputs": [
        {
          "output_type": "display_data",
          "data": {
            "text/plain": [
              "<Figure size 5300x1000 with 1 Axes>"
            ],
            "image/png": "[encoded data removed]"
          },
          "metadata": {}
        }
      ]
    },
    {
      "cell_type": "code",
      "source": [
        "#How much sorghum does each district yield\n",
        "plt.figure(figsize=(53,10))\n",
        "plt.subplot(1,2,1)\n",
        "sns.countplot(x= 'NAME', data=df, hue= 'S_Yield_Ha').set_title('Sorghum Yield By District')\n",
        "plt.show()"
      ],
      "metadata": {
        "colab": {
          "base_uri": "https://localhost:8080/",
          "height": 395
        },
        "id": "Hi2vcJPPUlY1",
        "outputId": "ea3338fb-a466-4418-b0e4-00eb7f19d941"
      },
      "execution_count": 7,
      "outputs": [
        {
          "output_type": "display_data",
          "data": {
            "text/plain": [
              "<Figure size 5300x1000 with 1 Axes>"
            ],
            "image/png": "[encoded data removed]"
          },
          "metadata": {}
        }
      ]
    },
    {
      "cell_type": "code",
      "source": [
        "#How much crop area does each crop cover\n",
        "sns.lineplot(x='Crop_Area_Ha', y='M_Yield_Ha', data=df)\n",
        "plt.title('Crop Area vs Maize Yield')\n",
        "plt.show()\n",
        "sns.lineplot(x='Crop_Area_Ha', y='S_Yield_Ha', data=df)\n",
        "plt.title('Crop Area vs Sorghum Yield')\n",
        "plt.show()\n"
      ],
      "metadata": {
        "colab": {
          "base_uri": "https://localhost:8080/",
          "height": 927
        },
        "id": "gSxfiASYU-xn",
        "outputId": "11e10aea-af50-4aff-c7f8-d462b393a070"
      },
      "execution_count": 10,
      "outputs": [
        {
          "output_type": "display_data",
          "data": {
            "text/plain": [
              "<Figure size 640x480 with 1 Axes>"
            ],
            "image/png": "[encoded data removed]"
          },
          "metadata": {}
        },
        {
          "output_type": "display_data",
          "data": {
            "text/plain": [
              "<Figure size 640x480 with 1 Axes>"
            ],
            "image/png": "[encoded data removed]"
          },
          "metadata": {}
        }
      ]
    },
    {
      "cell_type": "markdown",
      "source": [
        "# Conclusion\n",
        "Kaabong district has the highest population of 627,057 people and is the third in maize and sorghum yield.\n",
        "Amudat is the highest in maize yield while Abim is the highest in sorghum yield. The yield of both sorghum and maize is lower than their crop yield.Therefore, population growth and lack of proper crop development are some of the major causes of food insecurity in the area."
      ],
      "metadata": {
        "id": "bTBbt9CI6iP_"
      }
    },
    {
      "cell_type": "markdown",
      "source": [
        "# Recommendations\n",
        " - The farmers to be provided with genetically modified seeds and pesticides to curb destruction caused by pests and diseases to better the quality of harvest.\n",
        "\n",
        " -Production of Water Resourvoirs for continous water supply for the crop's development countering intense droughts to increase crop yield.\n",
        "\n",
        " -Acquiring a soil scientist to determine the appropriate soil nutrients for a balanced area to yield ratio."
      ],
      "metadata": {
        "id": "ykIUHYTH8sep"
      }
    }
  ]
}